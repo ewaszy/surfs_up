{
 "cells": [
  {
   "cell_type": "markdown",
   "id": "a7fe79df",
   "metadata": {},
   "source": [
    "# Set Up the Flask Weather App"
   ]
  },
  {
   "cell_type": "code",
   "execution_count": 1,
   "id": "3688020a",
   "metadata": {},
   "outputs": [],
   "source": [
    "# Import dependecies\n",
    "import datetime as dt\n",
    "import numpy as np\n",
    "import pandas as pd"
   ]
  },
  {
   "cell_type": "code",
   "execution_count": 2,
   "id": "e03e5426",
   "metadata": {},
   "outputs": [],
   "source": [
    "# Get the dependencies we need for SQLAlchemy\n",
    "import sqlalchemy\n",
    "from sqlalchemy.ext.automap import automap_base\n",
    "from sqlalchemy.orm import Session\n",
    "from sqlalchemy import create_engine, func"
   ]
  },
  {
   "cell_type": "code",
   "execution_count": 3,
   "id": "49035562",
   "metadata": {},
   "outputs": [],
   "source": [
    "# Add the code to import the dependencies that we need for Flask\n",
    "from flask import Flask, jsonify"
   ]
  },
  {
   "cell_type": "markdown",
   "id": "6004e9b4",
   "metadata": {},
   "source": [
    "# Set Up the Database"
   ]
  },
  {
   "cell_type": "code",
   "execution_count": 4,
   "id": "e97cfa4b",
   "metadata": {},
   "outputs": [],
   "source": [
    "# Access the SQLite database.\n",
    "engine = create_engine(\"sqlite:///hawaii.sqlite\")"
   ]
  },
  {
   "cell_type": "code",
   "execution_count": 5,
   "id": "02cf0e07",
   "metadata": {},
   "outputs": [],
   "source": [
    "# Reflect the database into our classes\n",
    "Base = automap_base()"
   ]
  },
  {
   "cell_type": "code",
   "execution_count": 6,
   "id": "a6b688d5",
   "metadata": {},
   "outputs": [],
   "source": [
    "# Reflect our tables\n",
    "Base.prepare(engine, reflect=True)"
   ]
  },
  {
   "cell_type": "code",
   "execution_count": 7,
   "id": "bed45624",
   "metadata": {},
   "outputs": [],
   "source": [
    "# Save our references to each table\n",
    "Measurement = Base.classes.measurement\n",
    "Station = Base.classes.station"
   ]
  },
  {
   "cell_type": "code",
   "execution_count": 8,
   "id": "461c73af",
   "metadata": {},
   "outputs": [],
   "source": [
    "# Create a session link from Python to our database\n",
    "session = Session(engine)"
   ]
  }
 ],
 "metadata": {
  "kernelspec": {
   "display_name": "PythonData",
   "language": "python",
   "name": "pythondata"
  },
  "language_info": {
   "codemirror_mode": {
    "name": "ipython",
    "version": 3
   },
   "file_extension": ".py",
   "mimetype": "text/x-python",
   "name": "python",
   "nbconvert_exporter": "python",
   "pygments_lexer": "ipython3",
   "version": "3.7.10"
  }
 },
 "nbformat": 4,
 "nbformat_minor": 5
}
